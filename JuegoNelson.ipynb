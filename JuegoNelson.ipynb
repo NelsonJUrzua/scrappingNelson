{
 "cells": [
  {
   "cell_type": "code",
   "execution_count": 2,
   "metadata": {},
   "outputs": [
    {
     "name": "stdout",
     "output_type": "stream",
     "text": [
      "*IGNORAR* El numero random es:  5\n",
      "Tienes  5  intentos para descifrar el numero\n",
      "Escoge un numero del 1 al 20\n",
      "2\n",
      "Te equivocaste, el numero es  mayor que ese.\n",
      "Escoge un numero del 1 al 20\n",
      "10\n",
      "Te equivocaste, el numero es menor que ese.\n",
      "Escoge un numero del 1 al 20\n",
      "5\n",
      "¡ Lo lograste !\n"
     ]
    }
   ],
   "source": [
    "import random\n",
    "#Generar numero aleatorio del 1 al 20\n",
    "numero = random.randint(1,20)\n",
    "#crear la variable de intentos que selecciona el mismo jugador a traves de un input\n",
    "intentos = input('Cuantos intentos quieres')\n",
    "#Que lo registrado sea considerado como \"enteros\"\n",
    "intentos = int(intentos)\n",
    "\n",
    "print('*IGNORAR* El numero random es: ',str(numero))\n",
    "#imprime la indicacion de cuantos intentos tiene el jugador\n",
    "print('Tienes ',str(intentos),' intentos para descifrar el numero')\n",
    "\n",
    "#CREA UN CICLO CON LA CANTIDAD DE INTENTOS SELECCIONADAS POR EL JUGADOR\n",
    "\n",
    "for i in range(intentos):\n",
    "    #preguntar al usuario, que escoga un sumero del 1 al 20\n",
    "    print('Escoge un numero del 1 al 20')\n",
    "    #TRANSFORMA LA RESPUESTA EN NUMERO\n",
    "    respuesta = int(input())\n",
    "    print(respuesta)\n",
    "    #crear condicionantes con \"if\"\n",
    "    #primero, si acierta el numero,  se termina el juego con break\n",
    "    if respuesta == numero:\n",
    "        print('¡ Lo lograste !')\n",
    "        break\n",
    "    #segundo, si el numero es menor que el elegedio aleatoriamente\n",
    "    if respuesta < numero:\n",
    "        print('Te equivocaste, el numero es  mayor que ese.')\n",
    "    #tercero, si el numero es mayor que el elegido aleatoriamente\n",
    "    if respuesta > numero:\n",
    "        print('Te equivocaste, el numero es menor que ese.')\n"
   ]
  }
 ],
 "metadata": {
  "kernelspec": {
   "display_name": "Python 3",
   "language": "python",
   "name": "python3"
  },
  "language_info": {
   "codemirror_mode": {
    "name": "ipython",
    "version": 3
   },
   "file_extension": ".py",
   "mimetype": "text/x-python",
   "name": "python",
   "nbconvert_exporter": "python",
   "pygments_lexer": "ipython3",
   "version": "3.11.1"
  },
  "orig_nbformat": 4,
  "vscode": {
   "interpreter": {
    "hash": "1876a4f41e7390ccc72a3f4cd2e0103a10ac1c23e325ce6b8eabf6a31a52f6e7"
   }
  }
 },
 "nbformat": 4,
 "nbformat_minor": 2
}
