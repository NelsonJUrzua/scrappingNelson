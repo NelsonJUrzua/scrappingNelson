{
 "cells": [
  {
   "cell_type": "code",
   "execution_count": 1,
   "metadata": {},
   "outputs": [],
   "source": [
    "import requests\n",
    "from bs4 import BeautifulSoup"
   ]
  },
  {
   "cell_type": "code",
   "execution_count": 2,
   "metadata": {},
   "outputs": [
    {
     "name": "stdout",
     "output_type": "stream",
     "text": [
      "page: \n",
      "<!DOCTYPE html>\n",
      "<html lang=\"en\">\n",
      " <head>\n",
      "  <meta charset=\"utf-8\"/>\n",
      "  <meta content=\"IE=edge\" http-equiv=\"X-UA-Compatible\"/>\n",
      "  <meta content=\"width=device-width, initial-scale=1.0\" name=\"viewport\"/>\n",
      "  <title>\n",
      "   Trabajo 1\n",
      "  </title>\n",
      " </head>\n",
      " <body style=\"background-color: coral;\">\n",
      "  <div>\n",
      "   <div style=\"float: left;border: solid 2px black;\">\n",
      "    <div style=\" margin-top: 0px; float: left; \">\n",
      "     <img alt=\"\" src=\"https://www.latercera.com/resizer/R4x8BWEE6tNRN15adZIOYK93JYU=/900x600/filters:focal(2633x1749:2643x1739)/cloudfront-us-east-1.images.arcpublishing.com/copesa/5IHYF3U57JD27EUZHDQQNEVKIQ.jpg\" srcset=\"\" style=\"height: 500px\"/>\n",
      "    </div>\n",
      "    <div style=\"text-align: center; margin-top: 150px;margin-bottom: 150px; \">\n",
      "     <p style=\"color: blue; font-size:50px;\">\n",
      "      Bomba en edificio Angelini\n",
      "     </p>\n",
      "     <p>\n",
      "      A un día de que se conociera la sentencia en contra de Camilo Gajardo Escalona, responsable de cometer seis atentados explosivos en la Región Metropolitana, las alarmas volvieron a encenderse en la comuna de Las Condes. Como pudo alertar el guardia de un edificio ubicado en el barrio El Golf, en horas de la noche del martes un sujeto dejó un artefacto explosivo en las afueras del lugar. Fiscalía Sur inició indagación para dar con él o los responsables.\n",
      "     </p>\n",
      "    </div>\n",
      "   </div>\n",
      "  </div>\n",
      "  <!-- tabla -->\n",
      "  <div>\n",
      "   <p style=\"color: blue; font-size:50px; margin-left: 400px; margin-right: 250px;\">\n",
      "    Tabla con los conceptos\n",
      "   </p>\n",
      "   <table style=\"text-align: center; justify-content: center; margin-left: 400px; margin-right: 250px; \">\n",
      "    <tr style=\"border: solid 2px black;\">\n",
      "     <th style=\"border: solid 2px black;\">\n",
      "      Bomba\n",
      "     </th>\n",
      "     <th style=\"border: solid 2px black;\">\n",
      "      Ubicación\n",
      "     </th>\n",
      "     <th style=\"border: solid 2px black;\">\n",
      "      Pistas\n",
      "     </th>\n",
      "    </tr>\n",
      "    <tr>\n",
      "     <td style=\"border: solid 2px black;\">\n",
      "      Ecoterrorismo\n",
      "     </td>\n",
      "     <td style=\"border: solid 2px black;\">\n",
      "      Venganza\n",
      "     </td>\n",
      "     <td style=\"border: solid 2px black;\">\n",
      "      ITS\n",
      "     </td>\n",
      "    </tr>\n",
      "    <tr>\n",
      "     <td style=\"border: solid 2px black;\">\n",
      "      Las condes\n",
      "     </td>\n",
      "     <td style=\"border: solid 2px black;\">\n",
      "      El golf\n",
      "     </td>\n",
      "     <td style=\"border: solid 2px black;\">\n",
      "      Edificio Angelini\n",
      "     </td>\n",
      "    </tr>\n",
      "    <tr>\n",
      "     <td style=\"border: solid 2px black;\">\n",
      "      Ciclista\n",
      "     </td>\n",
      "     <td style=\"border: solid 2px black;\">\n",
      "      Vestido de negro\n",
      "     </td>\n",
      "     <td style=\"border: solid 2px black;\">\n",
      "      Madrugada\n",
      "     </td>\n",
      "    </tr>\n",
      "   </table>\n",
      "  </div>\n",
      " </body>\n",
      "</html>\n",
      "\n"
     ]
    }
   ],
   "source": [
    "page = requests.get(\"https://nelsonjurzua.github.io/Trabajo_Nro1/\")\n",
    "\n",
    "page\n",
    "\n",
    "page.status_code\n",
    "\n",
    "page.content\n",
    "\n",
    "soup = BeautifulSoup(page.content, 'html.parser')\n",
    "\n",
    "print(f'page: \\n{soup.prettify()}')"
   ]
  },
  {
   "cell_type": "code",
   "execution_count": 3,
   "metadata": {},
   "outputs": [],
   "source": [
    "soup.find('h2')"
   ]
  }
 ],
 "metadata": {
  "kernelspec": {
   "display_name": "Python 3",
   "language": "python",
   "name": "python3"
  },
  "language_info": {
   "codemirror_mode": {
    "name": "ipython",
    "version": 3
   },
   "file_extension": ".py",
   "mimetype": "text/x-python",
   "name": "python",
   "nbconvert_exporter": "python",
   "pygments_lexer": "ipython3",
   "version": "3.11.1"
  },
  "orig_nbformat": 4,
  "vscode": {
   "interpreter": {
    "hash": "1876a4f41e7390ccc72a3f4cd2e0103a10ac1c23e325ce6b8eabf6a31a52f6e7"
   }
  }
 },
 "nbformat": 4,
 "nbformat_minor": 2
}
